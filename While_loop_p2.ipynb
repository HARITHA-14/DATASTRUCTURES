{
  "nbformat": 4,
  "nbformat_minor": 0,
  "metadata": {
    "colab": {
      "provenance": [],
      "authorship_tag": "ABX9TyPAG7W30V+Rna9DWStIZw8I",
      "include_colab_link": true
    },
    "kernelspec": {
      "name": "python3",
      "display_name": "Python 3"
    },
    "language_info": {
      "name": "python"
    }
  },
  "cells": [
    {
      "cell_type": "markdown",
      "metadata": {
        "id": "view-in-github",
        "colab_type": "text"
      },
      "source": [
        "<a href=\"https://colab.research.google.com/github/HARITHA-14/DATASTRUCTURES/blob/main/While_loop_p2.ipynb\" target=\"_parent\"><img src=\"https://colab.research.google.com/assets/colab-badge.svg\" alt=\"Open In Colab\"/></a>"
      ]
    },
    {
      "cell_type": "code",
      "source": [
        "#Write a program to guess a number. Keep prompting the user for input until they guess the correct number. Use a `while` loop."
      ],
      "metadata": {
        "id": "l6o17aP6Pq8R"
      },
      "execution_count": null,
      "outputs": []
    },
    {
      "cell_type": "markdown",
      "source": [
        "\"\"\"Write a program to guess a number. Keep prompting the user for input until they guess the correct number. Use a `while` loop.\"\"\""
      ],
      "metadata": {
        "id": "in11j5IEPzth"
      }
    },
    {
      "cell_type": "code",
      "source": [
        "import random\n",
        "def guess_the_number():\n",
        "    secret_number = random.randint(1, 10)\n",
        "    user_guess = None\n",
        "    while user_guess != secret_number:\n",
        "        try:\n",
        "\n",
        "            user_guess = int(input(\"Guess the number (between 1 and 10): \"))\n",
        "\n",
        "\n",
        "            if user_guess == secret_number:\n",
        "                print(\"Congratulations! You guessed the correct number.\")\n",
        "            elif user_guess < secret_number:\n",
        "                print(\"Too low. Try again.\")\n",
        "            else:\n",
        "                print(\"Too high. Try again.\")\n",
        "\n",
        "        except ValueError:\n",
        "            print(\"Please enter a valid integer.\")\n",
        "\n",
        "\n",
        "guess_the_number()\n"
      ],
      "metadata": {
        "colab": {
          "base_uri": "https://localhost:8080/"
        },
        "id": "9TVNvLhYOoBT",
        "outputId": "fd8660f2-4fa7-4a20-cf48-3dbdceb39115"
      },
      "execution_count": 7,
      "outputs": [
        {
          "output_type": "stream",
          "name": "stdout",
          "text": [
            "Guess the number (between 1 and 10): 2\n",
            "Too low. Try again.\n",
            "Guess the number (between 1 and 10): 3\n",
            "Too low. Try again.\n",
            "Guess the number (between 1 and 10): 4\n",
            "Too low. Try again.\n",
            "Guess the number (between 1 and 10): 7\n",
            "Too low. Try again.\n",
            "Guess the number (between 1 and 10): 8\n",
            "Too low. Try again.\n",
            "Guess the number (between 1 and 10): 9\n",
            "Congratulations! You guessed the correct number.\n"
          ]
        }
      ]
    }
  ]
}