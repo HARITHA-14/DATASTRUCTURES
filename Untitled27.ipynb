{
  "nbformat": 4,
  "nbformat_minor": 0,
  "metadata": {
    "colab": {
      "provenance": [],
      "authorship_tag": "ABX9TyNFI0B6a7gbWmqbL7isrAl0",
      "include_colab_link": true
    },
    "kernelspec": {
      "name": "python3",
      "display_name": "Python 3"
    },
    "language_info": {
      "name": "python"
    }
  },
  "cells": [
    {
      "cell_type": "markdown",
      "metadata": {
        "id": "view-in-github",
        "colab_type": "text"
      },
      "source": [
        "<a href=\"https://colab.research.google.com/github/HARITHA-14/DATASTRUCTURES/blob/main/Untitled27.ipynb\" target=\"_parent\"><img src=\"https://colab.research.google.com/assets/colab-badge.svg\" alt=\"Open In Colab\"/></a>"
      ]
    },
    {
      "cell_type": "code",
      "execution_count": null,
      "metadata": {
        "id": "pmFUnGMkKLV4"
      },
      "outputs": [],
      "source": [
        "'''rite a program to find the factorial of a number.\n",
        "\n",
        "Factorial of n is:\n",
        "\n",
        "n! = n * (n-1) * (n-2) * (n-3)....* 1\n",
        "\n",
        "Output the factorial of 'n'. If it does not exist, output 'Error'.'''"
      ]
    },
    {
      "cell_type": "code",
      "source": [
        "def factorial(n):\n",
        "    if n < 0:\n",
        "        return \"Error\"\n",
        "    elif n == 0:\n",
        "        return 1\n",
        "    else:\n",
        "        fact = 1\n",
        "        for i in range(1, n + 1):\n",
        "            fact *= i\n",
        "        return fact\n",
        "\n",
        "\n",
        "n = int(input())\n",
        "result = factorial(n)\n",
        "print(result)"
      ],
      "metadata": {
        "colab": {
          "base_uri": "https://localhost:8080/"
        },
        "id": "ITSJum9nKj7c",
        "outputId": "8ad8568d-418f-47fd-dd0c-e6fb560955c2"
      },
      "execution_count": 1,
      "outputs": [
        {
          "output_type": "stream",
          "name": "stdout",
          "text": [
            "5\n",
            "120\n"
          ]
        }
      ]
    }
  ]
}