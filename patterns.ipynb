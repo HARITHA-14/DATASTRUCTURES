{
  "nbformat": 4,
  "nbformat_minor": 0,
  "metadata": {
    "colab": {
      "provenance": [],
      "authorship_tag": "ABX9TyNhuUxYdFQb5AU6zFqJtn6k",
      "include_colab_link": true
    },
    "kernelspec": {
      "name": "python3",
      "display_name": "Python 3"
    },
    "language_info": {
      "name": "python"
    }
  },
  "cells": [
    {
      "cell_type": "markdown",
      "metadata": {
        "id": "view-in-github",
        "colab_type": "text"
      },
      "source": [
        "<a href=\"https://colab.research.google.com/github/HARITHA-14/DATASTRUCTURES/blob/main/patterns.ipynb\" target=\"_parent\"><img src=\"https://colab.research.google.com/assets/colab-badge.svg\" alt=\"Open In Colab\"/></a>"
      ]
    },
    {
      "cell_type": "code",
      "execution_count": 3,
      "metadata": {
        "colab": {
          "base_uri": "https://localhost:8080/"
        },
        "id": "RxftIRYDf8kB",
        "outputId": "ff6cfe8d-c1c3-4f78-81c8-7254feca0144"
      },
      "outputs": [
        {
          "output_type": "stream",
          "name": "stdout",
          "text": [
            "5\n",
            "*    \n",
            "**   \n",
            "***  \n",
            "**** \n",
            "*****\n",
            "**** \n",
            "***  \n",
            "**   \n",
            "*    \n"
          ]
        }
      ],
      "source": [
        "n= int(input())\n",
        "for i in range(1,n+1):\n",
        "  stars = i\n",
        "  space = n-i\n",
        "  print('*' * stars + ' ' * space)\n",
        "for i in range(n-1,0,-1):\n",
        "  stars = i\n",
        "  space = n-i\n",
        "  print('*' * stars + ' ' * space)\n"
      ]
    },
    {
      "cell_type": "code",
      "source": [
        "n = int(input( ))\n",
        "for i in range(0 , n+1):\n",
        "  for j in range(0,i+1):\n",
        "    if (i+j) % 2 == 0:\n",
        "      print ('1',end =' ')\n",
        "    else:\n",
        "      print('0',end =' ')\n",
        "  print()\n",
        "\n",
        "\n",
        ""
      ],
      "metadata": {
        "colab": {
          "base_uri": "https://localhost:8080/"
        },
        "id": "mEYKeAIuk5wZ",
        "outputId": "faa92561-18f6-4a5e-9559-a39d9d2aa5b0"
      },
      "execution_count": 12,
      "outputs": [
        {
          "output_type": "stream",
          "name": "stdout",
          "text": [
            "5\n",
            "1 \n",
            "0 1 \n",
            "1 0 1 \n",
            "0 1 0 1 \n",
            "1 0 1 0 1 \n",
            "0 1 0 1 0 1 \n"
          ]
        }
      ]
    },
    {
      "cell_type": "code",
      "source": [
        "n = int(input())\n",
        "for i in range(1, n + 1):\n",
        "    for j in range(i):\n",
        "      if (i + j) % 2 == 0:\n",
        "        print(\"1\", end=\" \")\n",
        "      else:\n",
        "        print(\"0\", end=\" \")\n",
        "    print()"
      ],
      "metadata": {
        "colab": {
          "base_uri": "https://localhost:8080/"
        },
        "id": "ZieyhcFTJ-9X",
        "outputId": "efa0e477-12fd-4328-b55f-48deef611fc5"
      },
      "execution_count": 1,
      "outputs": [
        {
          "output_type": "stream",
          "name": "stdout",
          "text": [
            "5\n",
            "0 \n",
            "1 0 \n",
            "0 1 0 \n",
            "1 0 1 0 \n",
            "0 1 0 1 0 \n"
          ]
        }
      ]
    },
    {
      "cell_type": "code",
      "source": [
        "def binary_number_triangle(N):\n",
        " \"\"\"Prints an N-row binary number triangle.\"\"\"\n",
        "\n",
        " for row in range(1, N + 1):\n",
        "   # Calculate the starting value for the current row\n",
        "   start = 1 if (row + 1) % 2 == 0 else 0\n",
        "\n",
        "   # Print the binary numbers in the current row\n",
        "   for col in range(1, row + 1):\n",
        "     print(start, end=\" \")\n",
        "     start = 1 - start  # Toggle between 0 and 1 for the next number\n",
        "   print()  # Move to the next line after printing each row\n",
        "\n",
        "# Get input from the user\n",
        "N = int(input(\"Enter the value of N: \"))\n",
        "\n",
        "# Generate and print the binary number triangle\n",
        "binary_number_triangle(N)\n"
      ],
      "metadata": {
        "colab": {
          "base_uri": "https://localhost:8080/"
        },
        "id": "HqRjkNsvL6FQ",
        "outputId": "9e3edb55-9d43-43a4-d80b-a5a56a29cb02"
      },
      "execution_count": 2,
      "outputs": [
        {
          "output_type": "stream",
          "name": "stdout",
          "text": [
            "Enter the value of N: 3\n",
            "1 \n",
            "0 1 \n",
            "1 0 1 \n"
          ]
        }
      ]
    },
    {
      "cell_type": "code",
      "source": [
        "n = int(input())\n",
        "for row in range(1, n+1):\n",
        "        i=0\n",
        "        if row % 2 != 0: i = 1\n",
        "        for _ in range(row):\n",
        "            print(i, end=\" \")\n",
        "            if i == 0: i+=1\n",
        "            else: i-=1\n",
        "        print()"
      ],
      "metadata": {
        "colab": {
          "base_uri": "https://localhost:8080/"
        },
        "id": "ObITEyssM6zi",
        "outputId": "9c79f91c-8b15-4c7c-a921-a6cc121ed18e"
      },
      "execution_count": 3,
      "outputs": [
        {
          "output_type": "stream",
          "name": "stdout",
          "text": [
            "5\n",
            "1 \n",
            "0 1 \n",
            "1 0 1 \n",
            "0 1 0 1 \n",
            "1 0 1 0 1 \n"
          ]
        }
      ]
    }
  ]
}