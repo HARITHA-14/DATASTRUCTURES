{
  "nbformat": 4,
  "nbformat_minor": 0,
  "metadata": {
    "colab": {
      "provenance": [],
      "authorship_tag": "ABX9TyNjWFtZp6MudmVfcrlvgaz4",
      "include_colab_link": true
    },
    "kernelspec": {
      "name": "python3",
      "display_name": "Python 3"
    },
    "language_info": {
      "name": "python"
    }
  },
  "cells": [
    {
      "cell_type": "markdown",
      "metadata": {
        "id": "view-in-github",
        "colab_type": "text"
      },
      "source": [
        "<a href=\"https://colab.research.google.com/github/HARITHA-14/DATASTRUCTURES/blob/main/string_with_numbers.ipynb\" target=\"_parent\"><img src=\"https://colab.research.google.com/assets/colab-badge.svg\" alt=\"Open In Colab\"/></a>"
      ]
    },
    {
      "cell_type": "code",
      "execution_count": null,
      "metadata": {
        "id": "k5CAWCma6jW6"
      },
      "outputs": [],
      "source": [
        "'''Given string s that is appended with a number at last. The task is to check whether the length of string excluding that number is equal to that number.\n",
        "Example 1:\n",
        "\n",
        "Input:  s = \"geeks5\"\n",
        "Output: 1\n",
        "Explanation: Length of geeks is 5\n",
        "and the last number is also 5.\n",
        "Example 2:\n",
        "\n",
        "Input:  s = \"geek5\"\n",
        "Output: 0\n",
        "Explanation: Length of geek is 4\n",
        "and the last number is 5.\n",
        "User Task:\n",
        "Your task is to complete the function isSame() which takes a single string as input and returns 1 in case the answer is true, otherwise 0. You do not need to take any input or print anything."
      ]
    },
    {
      "cell_type": "code",
      "source": [
        "class Solution:\n",
        "\tdef isSame(self, s):\n",
        "\t      numeric_part = \"\"\n",
        "        i = len(s) - 1\n",
        "        while i >= 0 and s[i].isdigit():\n",
        "            numeric_part = s[i] + numeric_part\n",
        "            i -= 1\n",
        "        length_without_numeric = len(s) - len(numeric_part)\n",
        "        return 1 if length_without_numeric == int(numeric_part) else 0\n"
      ],
      "metadata": {
        "colab": {
          "base_uri": "https://localhost:8080/",
          "height": 140
        },
        "id": "ku9Nb2_d6wOJ",
        "outputId": "065de23e-6b0e-4188-d7c9-1db5124afd7f"
      },
      "execution_count": 12,
      "outputs": [
        {
          "output_type": "error",
          "ename": "IndentationError",
          "evalue": "ignored",
          "traceback": [
            "\u001b[0;36m  File \u001b[0;32m\"<tokenize>\"\u001b[0;36m, line \u001b[0;32m4\u001b[0m\n\u001b[0;31m    i = len(s) - 1\u001b[0m\n\u001b[0m    ^\u001b[0m\n\u001b[0;31mIndentationError\u001b[0m\u001b[0;31m:\u001b[0m unindent does not match any outer indentation level\n"
          ]
        }
      ]
    }
  ]
}