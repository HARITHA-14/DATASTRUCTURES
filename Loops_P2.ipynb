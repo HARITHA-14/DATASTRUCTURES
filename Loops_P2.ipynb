{
  "nbformat": 4,
  "nbformat_minor": 0,
  "metadata": {
    "colab": {
      "provenance": [],
      "authorship_tag": "ABX9TyMgjDUrC/jrqXnQ4VeUfD6X",
      "include_colab_link": true
    },
    "kernelspec": {
      "name": "python3",
      "display_name": "Python 3"
    },
    "language_info": {
      "name": "python"
    }
  },
  "cells": [
    {
      "cell_type": "markdown",
      "metadata": {
        "id": "view-in-github",
        "colab_type": "text"
      },
      "source": [
        "<a href=\"https://colab.research.google.com/github/HARITHA-14/DATASTRUCTURES/blob/main/Loops_P2.ipynb\" target=\"_parent\"><img src=\"https://colab.research.google.com/assets/colab-badge.svg\" alt=\"Open In Colab\"/></a>"
      ]
    },
    {
      "cell_type": "code",
      "execution_count": null,
      "metadata": {
        "id": "66gmpfXSEuBY"
      },
      "outputs": [],
      "source": [
        "#Problem 2:\n",
        "'Write a program to calculate the sum of all even numbers from 1 to 20 using a for loop.'"
      ]
    },
    {
      "cell_type": "code",
      "source": [
        "even_sum=0\n",
        "for i in range(1,21):\n",
        "  if i % 2 == 0:\n",
        "    even_sum += i\n",
        "print(even_sum)\n"
      ],
      "metadata": {
        "colab": {
          "base_uri": "https://localhost:8080/"
        },
        "id": "jMb1ABgBE1bq",
        "outputId": "652ce109-73d4-4f99-89c2-76c49d0e6775"
      },
      "execution_count": 7,
      "outputs": [
        {
          "output_type": "stream",
          "name": "stdout",
          "text": [
            "110\n"
          ]
        }
      ]
    },
    {
      "cell_type": "code",
      "source": [
        "#to calculate odd sum"
      ],
      "metadata": {
        "id": "tuxfs-kLGZbd"
      },
      "execution_count": null,
      "outputs": []
    },
    {
      "cell_type": "code",
      "source": [
        "odd_sum=0\n",
        "for i in range(1,21):\n",
        "  if i % 2 != 0:\n",
        "    odd_sum += i\n",
        "print(odd_sum)\n"
      ],
      "metadata": {
        "colab": {
          "base_uri": "https://localhost:8080/"
        },
        "id": "xuJIZhIsGezo",
        "outputId": "9bdd6249-9314-41c1-cd2f-a7021ad748be"
      },
      "execution_count": 8,
      "outputs": [
        {
          "output_type": "stream",
          "name": "stdout",
          "text": [
            "100\n"
          ]
        }
      ]
    },
    {
      "cell_type": "code",
      "source": [
        "#different output at different idendation of print statement"
      ],
      "metadata": {
        "id": "I9CcZWApGxcs"
      },
      "execution_count": null,
      "outputs": []
    },
    {
      "cell_type": "code",
      "source": [
        "#print statement outside for loop"
      ],
      "metadata": {
        "id": "9kjJjePZHKhi"
      },
      "execution_count": null,
      "outputs": []
    },
    {
      "cell_type": "code",
      "source": [
        "even_sum=0\n",
        "for i in range(1,21):\n",
        "  if i % 2 == 0:\n",
        "    even_sum += i\n",
        "print(even_sum)\n"
      ],
      "metadata": {
        "colab": {
          "base_uri": "https://localhost:8080/"
        },
        "id": "s2pdSBKfG50n",
        "outputId": "cb81c33f-1057-464d-e250-d0a207c4951c"
      },
      "execution_count": 9,
      "outputs": [
        {
          "output_type": "stream",
          "name": "stdout",
          "text": [
            "110\n"
          ]
        }
      ]
    },
    {
      "cell_type": "code",
      "source": [
        "#print statement inside for loop"
      ],
      "metadata": {
        "id": "paMiLmOZHCBy"
      },
      "execution_count": null,
      "outputs": []
    },
    {
      "cell_type": "code",
      "source": [
        "even_sum=0\n",
        "for i in range(1,21):\n",
        "  if i % 2 == 0:\n",
        "    even_sum += i\n",
        "  print(even_sum)\n"
      ],
      "metadata": {
        "colab": {
          "base_uri": "https://localhost:8080/"
        },
        "id": "uKicWcndG9vF",
        "outputId": "e01418b8-f38e-4904-ade3-592557e0fff1"
      },
      "execution_count": 10,
      "outputs": [
        {
          "output_type": "stream",
          "name": "stdout",
          "text": [
            "0\n",
            "2\n",
            "2\n",
            "6\n",
            "6\n",
            "12\n",
            "12\n",
            "20\n",
            "20\n",
            "30\n",
            "30\n",
            "42\n",
            "42\n",
            "56\n",
            "56\n",
            "72\n",
            "72\n",
            "90\n",
            "90\n",
            "110\n"
          ]
        }
      ]
    },
    {
      "cell_type": "code",
      "source": [
        "#print ststement inside if condition"
      ],
      "metadata": {
        "id": "cIUdrPmHHImW"
      },
      "execution_count": null,
      "outputs": []
    },
    {
      "cell_type": "code",
      "source": [
        "even_sum=0\n",
        "for i in range(1,21):\n",
        "  if i % 2 == 0:\n",
        "    even_sum += i\n",
        "    print(even_sum)\n"
      ],
      "metadata": {
        "colab": {
          "base_uri": "https://localhost:8080/"
        },
        "id": "QtmZxhHpHU_U",
        "outputId": "85f9e6dd-83c6-4352-d1fe-13e737aabf46"
      },
      "execution_count": 11,
      "outputs": [
        {
          "output_type": "stream",
          "name": "stdout",
          "text": [
            "2\n",
            "6\n",
            "12\n",
            "20\n",
            "30\n",
            "42\n",
            "56\n",
            "72\n",
            "90\n",
            "110\n"
          ]
        }
      ]
    }
  ]
}