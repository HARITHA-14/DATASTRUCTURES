{
  "nbformat": 4,
  "nbformat_minor": 0,
  "metadata": {
    "colab": {
      "provenance": [],
      "authorship_tag": "ABX9TyMrGw30vlisudjfJEM07v2a",
      "include_colab_link": true
    },
    "kernelspec": {
      "name": "python3",
      "display_name": "Python 3"
    },
    "language_info": {
      "name": "python"
    }
  },
  "cells": [
    {
      "cell_type": "markdown",
      "metadata": {
        "id": "view-in-github",
        "colab_type": "text"
      },
      "source": [
        "<a href=\"https://colab.research.google.com/github/HARITHA-14/DATASTRUCTURES/blob/main/Reversing_a_string.ipynb\" target=\"_parent\"><img src=\"https://colab.research.google.com/assets/colab-badge.svg\" alt=\"Open In Colab\"/></a>"
      ]
    },
    {
      "cell_type": "code",
      "execution_count": null,
      "metadata": {
        "id": "IVJUF0ZQ48WA"
      },
      "outputs": [],
      "source": [
        "'''You are given a string s. You need to reverse the string.\n",
        "\n",
        "Example 1:\n",
        "\n",
        "Input:\n",
        "s = Geeks\n",
        "Output: skeeG\n",
        "Example 2:\n",
        "\n",
        "Input:\n",
        "s = for\n",
        "Output: rof\n",
        "Your Task:\n",
        "\n",
        "You only need to complete the function reverseWord() that takes s as parameter and returns the reversed string.\n",
        "\n",
        "Expected Time Complexity: O(|S|).\n",
        "Expected Auxiliary Space: O(1).'''"
      ]
    },
    {
      "cell_type": "code",
      "source": [
        "#using silcing method\n",
        "def reverseWord(s):\n",
        "    #your code here\n",
        "    s=s[::-1]\n",
        "    return s"
      ],
      "metadata": {
        "id": "HtGvksJK5LTO"
      },
      "execution_count": 1,
      "outputs": []
    },
    {
      "cell_type": "code",
      "source": [
        "#using recursion\n",
        "def reverse(s):\n",
        "  if len(s)==0:\n",
        "    return s\n",
        "  else:\n",
        "    return reverse(s[1:]+s[0])\n"
      ],
      "metadata": {
        "id": "USWgmMTy5zTK"
      },
      "execution_count": 2,
      "outputs": []
    }
  ]
}