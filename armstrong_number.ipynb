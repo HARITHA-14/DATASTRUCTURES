{
  "nbformat": 4,
  "nbformat_minor": 0,
  "metadata": {
    "colab": {
      "provenance": [],
      "authorship_tag": "ABX9TyPc8VK7nq3hfdIwgQzgYlkd",
      "include_colab_link": true
    },
    "kernelspec": {
      "name": "python3",
      "display_name": "Python 3"
    },
    "language_info": {
      "name": "python"
    }
  },
  "cells": [
    {
      "cell_type": "markdown",
      "metadata": {
        "id": "view-in-github",
        "colab_type": "text"
      },
      "source": [
        "<a href=\"https://colab.research.google.com/github/HARITHA-14/DATASTRUCTURES/blob/main/armstrong_number.ipynb\" target=\"_parent\"><img src=\"https://colab.research.google.com/assets/colab-badge.svg\" alt=\"Open In Colab\"/></a>"
      ]
    },
    {
      "cell_type": "code",
      "execution_count": null,
      "metadata": {
        "id": "G7SVffztPEfe"
      },
      "outputs": [],
      "source": [
        "#to check weather the given number is armstrong number or not\n",
        "\"\"\"You are given an integer 'n'.\n",
        "\n",
        "\n",
        "\n",
        "Return 'true' if 'n' is an Armstrong number, and 'false' otherwise.\n",
        "\n",
        "\n",
        "\n",
        "Note:\n",
        "An Armstrong number is a number (with 'k' digits) such that the sum of its digits raised to 'kth' power is equal to the number itself. For example, 371 is an Armstrong number because 3^3 + 7^3 + 1^3 = 371.\"\"\""
      ]
    },
    {
      "cell_type": "code",
      "source": [
        "n = int(input())\n",
        "num_str = str(n)\n",
        "a = len(num_str)\n",
        "\n",
        "    # Calculate the sum of the cubes of the digits\n",
        "sum_of_cubes = sum(int(digit)**a for digit in num_str)\n",
        "if sum_of_cubes == n:\n",
        "    print('true')\n",
        "else:\n",
        "    print('false')"
      ],
      "metadata": {
        "colab": {
          "base_uri": "https://localhost:8080/"
        },
        "id": "LgakhGRNPZ7t",
        "outputId": "52e2b6f9-b551-4766-e4cd-3712345bd12e"
      },
      "execution_count": 1,
      "outputs": [
        {
          "output_type": "stream",
          "name": "stdout",
          "text": [
            "78\n",
            "false\n"
          ]
        }
      ]
    },
    {
      "cell_type": "code",
      "source": [
        "# Python program to print Armstrong numbers in a given interval\n",
        "# Function to check if a number is Armstrong or not\n",
        "def isArmstrong(num):\n",
        "    order = len(str(num))\n",
        "    sum_of_powers = 0\n",
        "\n",
        "    # Iterate over each digit of the number\n",
        "    for digit in str(num):\n",
        "        sum_of_powers += int(digit) ** order\n",
        "\n",
        "    # Check if the sum of the powers is equal to the number itself\n",
        "    if num == sum_of_powers:\n",
        "        return True\n",
        "    else:\n",
        "        return False\n",
        "\n",
        "# Print Armstrong numbers between 1 and 1000\n",
        "for num in range(1, 1001):\n",
        "    if isArmstrong(num):\n",
        "        print(num)\n"
      ],
      "metadata": {
        "colab": {
          "base_uri": "https://localhost:8080/"
        },
        "id": "p5hXaMLihg6Y",
        "outputId": "2ddd98d2-971b-4398-8031-e6685c49a6db"
      },
      "execution_count": 2,
      "outputs": [
        {
          "output_type": "stream",
          "name": "stdout",
          "text": [
            "1\n",
            "2\n",
            "3\n",
            "4\n",
            "5\n",
            "6\n",
            "7\n",
            "8\n",
            "9\n",
            "153\n",
            "370\n",
            "371\n",
            "407\n"
          ]
        }
      ]
    }
  ]
}